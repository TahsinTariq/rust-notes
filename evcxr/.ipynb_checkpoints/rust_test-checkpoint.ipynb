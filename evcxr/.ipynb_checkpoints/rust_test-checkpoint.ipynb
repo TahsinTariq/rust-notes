{
 "cells": [
  {
   "cell_type": "code",
   "execution_count": 2,
   "id": "1109abf7-e1cd-4f17-b2c5-05b789cd9890",
   "metadata": {},
   "outputs": [
    {
     "name": "stdout",
     "output_type": "stream",
     "text": [
      "it works!!!\n"
     ]
    },
    {
     "data": {
      "text/plain": [
       "()"
      ]
     },
     "execution_count": 2,
     "metadata": {},
     "output_type": "execute_result"
    }
   ],
   "source": [
    "println!(\"it works!!!\")"
   ]
  },
  {
   "cell_type": "code",
   "execution_count": 6,
   "id": "26ef880a-5d26-4f34-9f21-29bd3596cf88",
   "metadata": {},
   "outputs": [],
   "source": [
    "// fn main() {\n",
    "\n",
    "// }\n",
    "\n",
    "fn stat(list: &mut [i32]) {\n",
    "    println!(\n",
    "        \"\\taverage: {}\",\n",
    "        list.iter().sum::<i32>() as f32 / list.len() as f32\n",
    "    );\n",
    "    println!(\n",
    "        \"\\tmedian: {:?}\",\n",
    "        match {\n",
    "            list.sort();\n",
    "            list.get(list.len() / 2)\n",
    "        } {\n",
    "            None => panic!(\"found none\"),\n",
    "            Some(i) => i,\n",
    "        }\n",
    "    );\n",
    "    use std::collections::HashMap;\n",
    "    let mut map = HashMap::new();\n",
    "    for i in list.iter() {\n",
    "        // let count = map.entry(i).or_insert(0);\n",
    "        // *count += 1;\n",
    "        *map.entry(i).or_insert(0) += 1;\n",
    "    }\n",
    "\n",
    "    let map = map.into_iter();\n",
    "    // println!(\n",
    "    //     \"mode: {:?}\",\n",
    "    //     match map.max_by_key(|&(_val, count)| count) {\n",
    "    //         Some(i) => i.0,\n",
    "    //         None => panic!(\"None\"),\n",
    "    //     }\n",
    "    // );\n",
    "    println!(\n",
    "        \"\\tmode: {:?}\",\n",
    "        map.max_by_key(|&(_val, count)| count)\n",
    "            .map(|(val, _count)| val)\n",
    "            .expect(\"Nothing\")\n",
    "    );\n",
    "}\n",
    "\n",
    "fn piglatin(pstr: &str) {\n",
    "    match &pstr[0..1] {\n",
    "        \"a\" | \"e\" | \"i\" | \"o\" | \"u\" => println!(\"\\t{}-hay\", &pstr[0..]),\n",
    "        _ => println!(\"\\t{}-{}ay\", &pstr[1..], &pstr[0..1]),\n",
    "    }\n",
    "}\n"
   ]
  },
  {
   "cell_type": "code",
   "execution_count": 7,
   "id": "efd2904c-1425-4cc9-b10f-82d1b073f524",
   "metadata": {},
   "outputs": [
    {
     "name": "stdout",
     "output_type": "stream",
     "text": [
      "Average, Median and Mode -> \n",
      "\taverage: 4.090909\n",
      "\tmedian: 4\n",
      "\tmode: 0\n",
      "Pig Latin -> \n",
      "\tirst-fay\n",
      "\tapple-hay\n",
      "\tig-pay\n",
      "\tatin-lay\n"
     ]
    },
    {
     "data": {
      "text/plain": [
       "()"
      ]
     },
     "execution_count": 7,
     "metadata": {},
     "output_type": "execute_result"
    }
   ],
   "source": [
    "let mut list = vec![0, 0, 2, 5, 8, 7, 1, 4, 3, 6, 9];\n",
    "println!(\"Average, Median and Mode -> \");\n",
    "stat(&mut list);\n",
    "let mut plist = vec![\"first\", \"apple\", \"pig\", \"latin\"];\n",
    "println!(\"Pig Latin -> \");\n",
    "for string in &mut plist {\n",
    "    piglatin(string);\n",
    "}"
   ]
  },
  {
   "cell_type": "code",
   "execution_count": null,
   "id": "85eef4b4-3e51-4517-8067-ffb319e4b03a",
   "metadata": {},
   "outputs": [],
   "source": []
  },
  {
   "cell_type": "code",
   "execution_count": null,
   "id": "2e86ae7f-f2ed-4396-8761-5507e7fc2ece",
   "metadata": {},
   "outputs": [],
   "source": []
  }
 ],
 "metadata": {
  "kernelspec": {
   "display_name": "Rust",
   "language": "rust",
   "name": "rust"
  },
  "language_info": {
   "codemirror_mode": "rust",
   "file_extension": ".rs",
   "mimetype": "text/rust",
   "name": "Rust",
   "pygment_lexer": "rust",
   "version": ""
  }
 },
 "nbformat": 4,
 "nbformat_minor": 5
}
