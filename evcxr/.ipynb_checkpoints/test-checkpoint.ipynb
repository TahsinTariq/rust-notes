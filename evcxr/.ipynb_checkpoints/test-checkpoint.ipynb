{
 "cells": [
  {
   "cell_type": "code",
   "execution_count": 2,
   "id": "baa9c085-967b-4762-8f0d-fb8566d013b7",
   "metadata": {},
   "outputs": [
    {
     "name": "stdout",
     "output_type": "stream",
     "text": [
      "Package                       Version\n",
      "----------------------------- -------------------\n",
      "anyio                         2.2.0\n",
      "appdirs                       1.4.4\n",
      "argon2-cffi                   20.1.0\n",
      "async-generator               1.10\n",
      "attrs                         21.1.0\n",
      "Babel                         2.9.1\n",
      "backcall                      0.2.0\n",
      "backports.functools-lru-cache 1.6.4\n",
      "bleach                        3.3.0\n",
      "brotlipy                      0.7.0\n",
      "certifi                       2020.12.5\n",
      "cffi                          1.14.5\n",
      "chardet                       4.0.0\n",
      "cryptography                  3.4.7\n",
      "decorator                     5.0.7\n",
      "defusedxml                    0.7.1\n",
      "deprecation                   2.1.0\n",
      "distlib                       0.3.1\n",
      "entrypoints                   0.3\n",
      "filelock                      3.0.12\n",
      "idna                          2.10\n",
      "importlib-metadata            4.0.1\n",
      "ipykernel                     5.5.4\n",
      "ipython                       7.23.1\n",
      "ipython-genutils              0.2.0\n",
      "jedi                          0.18.0\n",
      "Jinja2                        2.11.3\n",
      "json5                         0.9.5\n",
      "jsonschema                    3.2.0\n",
      "jupyter-client                6.1.12\n",
      "jupyter-core                  4.7.1\n",
      "jupyter-packaging             0.10.1\n",
      "jupyter-server                1.6.4\n",
      "jupyterlab                    3.0.14\n",
      "jupyterlab-pygments           0.1.2\n",
      "jupyterlab-server             2.5.0\n",
      "MarkupSafe                    1.1.1\n",
      "matplotlib-inline             0.1.2\n",
      "mistune                       0.8.4\n",
      "nbclassic                     0.2.7\n",
      "nbclient                      0.5.3\n",
      "nbconvert                     6.0.7\n",
      "nbformat                      5.1.3\n",
      "nest-asyncio                  1.5.1\n",
      "notebook                      6.3.0\n",
      "packaging                     20.9\n",
      "pandocfilters                 1.4.2\n",
      "parso                         0.8.2\n",
      "pbr                           5.6.0\n",
      "pexpect                       4.8.0\n",
      "pickleshare                   0.7.5\n",
      "pip                           21.0.1\n",
      "prometheus-client             0.10.1\n",
      "prompt-toolkit                3.0.18\n",
      "ptyprocess                    0.7.0\n",
      "pycparser                     2.20\n",
      "Pygments                      2.9.0\n",
      "pyOpenSSL                     20.0.1\n",
      "pyparsing                     2.4.7\n",
      "pyrsistent                    0.17.3\n",
      "PySocks                       1.7.1\n",
      "python-dateutil               2.8.1\n",
      "pytz                          2021.1\n",
      "pyzmq                         19.0.2\n",
      "requests                      2.25.1\n",
      "Send2Trash                    1.5.0\n",
      "setuptools                    52.0.0.post20210125\n",
      "six                           1.16.0\n",
      "sniffio                       1.2.0\n",
      "stevedore                     3.3.0\n",
      "terminado                     0.9.4\n",
      "testpath                      0.4.4\n",
      "tomlkit                       0.7.0\n",
      "tornado                       6.1\n",
      "traitlets                     5.0.5\n",
      "typing-extensions             3.10.0.0\n",
      "urllib3                       1.26.4\n",
      "virtualenv                    20.4.6\n",
      "virtualenv-clone              0.5.4\n",
      "virtualenvwrapper             4.8.4\n",
      "wcwidth                       0.2.5\n",
      "webencodings                  0.5.1\n",
      "wheel                         0.36.2\n",
      "zipp                          3.4.1\n"
     ]
    }
   ],
   "source": [
    "!pip list"
   ]
  },
  {
   "cell_type": "code",
   "execution_count": null,
   "id": "c790c429-1b73-4925-a95e-344d51e4d3d1",
   "metadata": {},
   "outputs": [],
   "source": [
    "!js\n",
    "console.log(\"w\")"
   ]
  }
 ],
 "metadata": {
  "kernelspec": {
   "display_name": "Python 3",
   "language": "python",
   "name": "python3"
  },
  "language_info": {
   "codemirror_mode": {
    "name": "ipython",
    "version": 3
   },
   "file_extension": ".py",
   "mimetype": "text/x-python",
   "name": "python",
   "nbconvert_exporter": "python",
   "pygments_lexer": "ipython3",
   "version": "3.7.9"
  }
 },
 "nbformat": 4,
 "nbformat_minor": 5
}
