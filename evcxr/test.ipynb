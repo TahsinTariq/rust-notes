{
 "cells": [
  {
   "cell_type": "code",
   "execution_count": 1,
   "id": "baa9c085-967b-4762-8f0d-fb8566d013b7",
   "metadata": {},
   "outputs": [
    {
     "output_type": "stream",
     "name": "stdout",
     "text": [
      "Package                       Version\n----------------------------- -------------------\nanyio                         2.2.0\nappdirs                       1.4.4\nargon2-cffi                   20.1.0\nasync-generator               1.10\nattrs                         21.1.0\nBabel                         2.9.1\nbackcall                      0.2.0\nbackports.functools-lru-cache 1.6.4\nbleach                        3.3.0\nbrotlipy                      0.7.0\ncertifi                       2020.12.5\ncffi                          1.14.5\nchardet                       4.0.0\ncryptography                  3.4.7\ndecorator                     5.0.7\ndefusedxml                    0.7.1\ndeprecation                   2.1.0\ndistlib                       0.3.1\nentrypoints                   0.3\nfilelock                      3.0.12\nidna                          2.10\nimportlib-metadata            4.0.1\nipykernel                     5.5.4\nipython                       7.23.1\nipython-genutils              0.2.0\njedi                          0.18.0\nJinja2                        2.11.3\njson5                         0.9.5\njsonschema                    3.2.0\njupyter-client                6.1.12\njupyter-core                  4.7.1\njupyter-packaging             0.10.1\njupyter-server                1.6.4\njupyterlab                    3.0.14\njupyterlab-pygments           0.1.2\njupyterlab-server             2.5.0\nMarkupSafe                    1.1.1\nmatplotlib-inline             0.1.2\nmistune                       0.8.4\nnbclassic                     0.2.7\nnbclient                      0.5.3\nnbconvert                     6.0.7\nnbformat                      5.1.3\nnest-asyncio                  1.5.1\nnotebook                      6.3.0\npackaging                     20.9\npandocfilters                 1.4.2\nparso                         0.8.2\npbr                           5.6.0\npexpect                       4.8.0\npickleshare                   0.7.5\npip                           21.0.1\nprometheus-client             0.10.1\nprompt-toolkit                3.0.18\nptyprocess                    0.7.0\npycparser                     2.20\nPygments                      2.9.0\npyOpenSSL                     20.0.1\npyparsing                     2.4.7\npyrsistent                    0.17.3\nPySocks                       1.7.1\npython-dateutil               2.8.1\npytz                          2021.1\npyzmq                         19.0.2\nrequests                      2.25.1\nSend2Trash                    1.5.0\nsetuptools                    52.0.0.post20210125\nsix                           1.16.0\nsniffio                       1.2.0\nstevedore                     3.3.0\nterminado                     0.9.4\ntestpath                      0.4.4\ntomlkit                       0.7.0\ntornado                       6.1\ntraitlets                     5.0.5\ntyping-extensions             3.10.0.0\nurllib3                       1.26.4\nvirtualenv                    20.4.6\nvirtualenv-clone              0.5.4\nvirtualenvwrapper             4.8.4\nwcwidth                       0.2.5\nwebencodings                  0.5.1\nwheel                         0.36.2\nzipp                          3.4.1\n"
     ]
    }
   ],
   "source": [
    "!pip list"
   ]
  },
  {
   "cell_type": "code",
   "execution_count": null,
   "id": "c790c429-1b73-4925-a95e-344d51e4d3d1",
   "metadata": {},
   "outputs": [],
   "source": [
    "!js\n",
    "console.log(\"w\")"
   ]
  },
  {
   "cell_type": "code",
   "execution_count": null,
   "metadata": {},
   "outputs": [],
   "source": []
  }
 ],
 "metadata": {
  "kernelspec": {
   "display_name": "Python 3",
   "language": "python",
   "name": "python3"
  }
 },
 "nbformat": 4,
 "nbformat_minor": 5
}